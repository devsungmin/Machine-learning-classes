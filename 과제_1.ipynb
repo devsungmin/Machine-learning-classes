{
 "cells": [
  {
   "cell_type": "code",
   "execution_count": 1,
   "metadata": {},
   "outputs": [
    {
     "name": "stderr",
     "output_type": "stream",
     "text": [
      "//anaconda3/envs/study/lib/python3.7/site-packages/sklearn/externals/six.py:31: DeprecationWarning: The module is deprecated in version 0.21 and will be removed in version 0.23 since we've dropped support for Python 2.7. Please rely on the official version of six (https://pypi.org/project/six/).\n",
      "  \"(https://pypi.org/project/six/).\", DeprecationWarning)\n",
      "//anaconda3/envs/study/lib/python3.7/site-packages/sklearn/externals/joblib/__init__.py:15: DeprecationWarning: sklearn.externals.joblib is deprecated in 0.21 and will be removed in 0.23. Please import this functionality directly from joblib, which can be installed with: pip install joblib. If this warning is raised when loading pickled models, you may need to re-serialize those models with scikit-learn 0.21+.\n",
      "  warnings.warn(msg, category=DeprecationWarning)\n"
     ]
    }
   ],
   "source": [
    "#필요한 모듈 import\n",
    "import sys\n",
    "import IPython\n",
    "import sklearn\n",
    "import mglearn\n",
    "import numpy as np\n",
    "import pandas as pd\n",
    "from scipy import sparse\n",
    "from sklearn.model_selection import train_test_split\n",
    "from sklearn.linear_model import Ridge\n",
    "#데이터를 불러오기 위해 sklearn 에서 datasets을 import\n",
    "from sklearn import datasets\n",
    "from sklearn.neighbors import KNeighborsClassifier"
   ]
  },
  {
   "cell_type": "code",
   "execution_count": 2,
   "metadata": {},
   "outputs": [],
   "source": [
    "# data digits  데이터셋 구성\n",
    "digits = datasets.load_digits()"
   ]
  },
  {
   "cell_type": "code",
   "execution_count": 3,
   "metadata": {},
   "outputs": [],
   "source": [
    "knn = KNeighborsClassifier(n_neighbors=3)\n",
    "X_train, X_test, y_train, y_test = train_test_split(digits['data'], digits['target'], random_state=0)"
   ]
  },
  {
   "cell_type": "code",
   "execution_count": 4,
   "metadata": {},
   "outputs": [
    {
     "name": "stdout",
     "output_type": "stream",
     "text": [
      "knn 훈련 세트의 점수: 0.99\n"
     ]
    }
   ],
   "source": [
    "knn.fit(X_train, y_train)\n",
    "print(\"knn 훈련 세트의 점수: {:.2f}\".format(knn.score(X_train,y_train)))"
   ]
  },
  {
   "cell_type": "code",
   "execution_count": 5,
   "metadata": {},
   "outputs": [],
   "source": [
    "#diabetes 데이터셋 구성\n",
    "diabetes = datasets.load_diabetes()"
   ]
  },
  {
   "cell_type": "code",
   "execution_count": 6,
   "metadata": {},
   "outputs": [],
   "source": [
    "X_train, X_test, y_train, y_test = train_test_split(diabetes['data'], diabetes['target'], random_state=0)"
   ]
  },
  {
   "cell_type": "code",
   "execution_count": 7,
   "metadata": {},
   "outputs": [
    {
     "name": "stdout",
     "output_type": "stream",
     "text": [
      "Ridge=1 훈련 세트의 점수: 0.46\n",
      "Ridge=1 테스트 세트의 점수: 0.36\n",
      "\n",
      "Ridge=10 훈련 세트의 점수: 0.17\n",
      "Ridge=10 테스트 세트의 점수: 0.14\n",
      "\n",
      "Ridge=0 훈련 세트의 점수: 0.56\n",
      "Ridge=0 테스트 세트의 점수: 0.36\n",
      "\n",
      "Ridge=5 훈련 세트의 점수: 0.56\n",
      "Ridge=5 테스트 세트의 점수: 0.36\n",
      "\n"
     ]
    }
   ],
   "source": [
    "ridge = Ridge().fit(X_train, y_train)\n",
    "print(\"Ridge=1 훈련 세트의 점수: {:.2f}\".format(ridge.score(X_train,y_train)))\n",
    "print(\"Ridge=1 테스트 세트의 점수: {:.2f}\\n\".format(ridge.score(X_test,y_test)))\n",
    "\n",
    "ridge10 = Ridge(alpha=10).fit(X_train, y_train)\n",
    "print(\"Ridge=10 훈련 세트의 점수: {:.2f}\".format(ridge10.score(X_train,y_train)))\n",
    "print(\"Ridge=10 테스트 세트의 점수: {:.2f}\\n\".format(ridge10.score(X_test,y_test)))\n",
    "\n",
    "ridge0 = Ridge(alpha=0).fit(X_train, y_train)\n",
    "print(\"Ridge=0 훈련 세트의 점수: {:.2f}\".format(ridge0.score(X_train,y_train)))\n",
    "print(\"Ridge=0 테스트 세트의 점수: {:.2f}\\n\".format(ridge0.score(X_test,y_test)))\n",
    "\n",
    "ridge5 = Ridge(alpha=0.001).fit(X_train, y_train)\n",
    "print(\"Ridge=5 훈련 세트의 점수: {:.2f}\".format(ridge5.score(X_train,y_train)))\n",
    "print(\"Ridge=5 테스트 세트의 점수: {:.2f}\\n\".format(ridge5.score(X_test,y_test)))\n",
    "\n"
   ]
  },
  {
   "cell_type": "code",
   "execution_count": null,
   "metadata": {},
   "outputs": [],
   "source": []
  }
 ],
 "metadata": {
  "kernelspec": {
   "display_name": "Python 3",
   "language": "python",
   "name": "python3"
  },
  "language_info": {
   "codemirror_mode": {
    "name": "ipython",
    "version": 3
   },
   "file_extension": ".py",
   "mimetype": "text/x-python",
   "name": "python",
   "nbconvert_exporter": "python",
   "pygments_lexer": "ipython3",
   "version": "3.7.4"
  }
 },
 "nbformat": 4,
 "nbformat_minor": 2
}

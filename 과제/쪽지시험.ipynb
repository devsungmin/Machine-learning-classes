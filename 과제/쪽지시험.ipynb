{
 "cells": [
  {
   "cell_type": "code",
   "execution_count": 1,
   "metadata": {},
   "outputs": [
    {
     "name": "stderr",
     "output_type": "stream",
     "text": [
      "C:\\Users\\kimsu\\Anaconda3\\envs\\study\\lib\\site-packages\\sklearn\\externals\\six.py:31: DeprecationWarning: The module is deprecated in version 0.21 and will be removed in version 0.23 since we've dropped support for Python 2.7. Please rely on the official version of six (https://pypi.org/project/six/).\n",
      "  \"(https://pypi.org/project/six/).\", DeprecationWarning)\n",
      "C:\\Users\\kimsu\\Anaconda3\\envs\\study\\lib\\site-packages\\sklearn\\externals\\joblib\\__init__.py:15: DeprecationWarning: sklearn.externals.joblib is deprecated in 0.21 and will be removed in 0.23. Please import this functionality directly from joblib, which can be installed with: pip install joblib. If this warning is raised when loading pickled models, you may need to re-serialize those models with scikit-learn 0.21+.\n",
      "  warnings.warn(msg, category=DeprecationWarning)\n"
     ]
    }
   ],
   "source": [
    "import sklearn\n",
    "import mglearn\n",
    "import numpy as np\n",
    "import pandas as pd\n",
    "import matplotlib as plt"
   ]
  },
  {
   "cell_type": "code",
   "execution_count": 2,
   "metadata": {},
   "outputs": [],
   "source": [
    "from sklearn.model_selection import train_test_split"
   ]
  },
  {
   "cell_type": "code",
   "execution_count": 3,
   "metadata": {},
   "outputs": [
    {
     "name": "stdout",
     "output_type": "stream",
     "text": [
      "     Class label  Alchol  Malic_Acid   Ash  Alcalinity_of_Ash  Magnesium  \\\n",
      "0              1   14.23        1.71  2.43               15.6        127   \n",
      "1              1   13.20        1.78  2.14               11.2        100   \n",
      "2              1   13.16        2.36  2.67               18.6        101   \n",
      "3              1   14.37        1.95  2.50               16.8        113   \n",
      "4              1   13.24        2.59  2.87               21.0        118   \n",
      "..           ...     ...         ...   ...                ...        ...   \n",
      "173            3   13.71        5.65  2.45               20.5         95   \n",
      "174            3   13.40        3.91  2.48               23.0        102   \n",
      "175            3   13.27        4.28  2.26               20.0        120   \n",
      "176            3   13.17        2.59  2.37               20.0        120   \n",
      "177            3   14.13        4.10  2.74               24.5         96   \n",
      "\n",
      "     Total_phenols  Falvanoids  Nonflavanoid_phenols  Proanthocyanins  \\\n",
      "0             2.80        3.06                  0.28             2.29   \n",
      "1             2.65        2.76                  0.26             1.28   \n",
      "2             2.80        3.24                  0.30             2.81   \n",
      "3             3.85        3.49                  0.24             2.18   \n",
      "4             2.80        2.69                  0.39             1.82   \n",
      "..             ...         ...                   ...              ...   \n",
      "173           1.68        0.61                  0.52             1.06   \n",
      "174           1.80        0.75                  0.43             1.41   \n",
      "175           1.59        0.69                  0.43             1.35   \n",
      "176           1.65        0.68                  0.53             1.46   \n",
      "177           2.05        0.76                  0.56             1.35   \n",
      "\n",
      "     Color_intensity   Hue  OD280  Proline  \n",
      "0               5.64  1.04   3.92     1065  \n",
      "1               4.38  1.05   3.40     1050  \n",
      "2               5.68  1.03   3.17     1185  \n",
      "3               7.80  0.86   3.45     1480  \n",
      "4               4.32  1.04   2.93      735  \n",
      "..               ...   ...    ...      ...  \n",
      "173             7.70  0.64   1.74      740  \n",
      "174             7.30  0.70   1.56      750  \n",
      "175            10.20  0.59   1.56      835  \n",
      "176             9.30  0.60   1.62      840  \n",
      "177             9.20  0.61   1.60      560  \n",
      "\n",
      "[178 rows x 14 columns]\n"
     ]
    }
   ],
   "source": [
    "wine = pd.read_csv(\"wine.data\", names = [\"Class label\", \"Alchol\", \"Malic_Acid\", \"Ash\",\n",
    "                                    \"Alcalinity_of_Ash\", \"Magnesium\", \"Total_phenols\",\n",
    "                                             \"Falvanoids\", \"Nonflavanoid_phenols\",\n",
    "                                             \"Proanthocyanins\", \"Color_intensity\", \"Hue\",\n",
    "                                             \"OD280\", \"Proline\"])\n",
    "print(wine)"
   ]
  },
  {
   "cell_type": "code",
   "execution_count": 9,
   "metadata": {},
   "outputs": [],
   "source": [
    "X, y = wine.iloc[:,1:].values, wine.iloc[:,0].values\n",
    "X_train, X_test, y_train, y_test = train_test_split(X, y, random_state=42, stratify = y)"
   ]
  },
  {
   "cell_type": "code",
   "execution_count": 10,
   "metadata": {},
   "outputs": [
    {
     "data": {
      "text/plain": [
       "RandomForestRegressor(bootstrap=True, criterion='mse', max_depth=None,\n",
       "                      max_features='auto', max_leaf_nodes=None,\n",
       "                      min_impurity_decrease=0.0, min_impurity_split=None,\n",
       "                      min_samples_leaf=1, min_samples_split=2,\n",
       "                      min_weight_fraction_leaf=0.0, n_estimators=30,\n",
       "                      n_jobs=None, oob_score=False, random_state=42, verbose=0,\n",
       "                      warm_start=False)"
      ]
     },
     "execution_count": 10,
     "metadata": {},
     "output_type": "execute_result"
    }
   ],
   "source": [
    "from sklearn.ensemble import RandomForestRegressor\n",
    "\n",
    "forest = RandomForestRegressor(n_estimators=30, random_state=42)\n",
    "forest.fit(X_train, y_train)"
   ]
  },
  {
   "cell_type": "code",
   "execution_count": 11,
   "metadata": {},
   "outputs": [
    {
     "name": "stdout",
     "output_type": "stream",
     "text": [
      "컴퓨터 공학과\n",
      "2015244055\n",
      "김성민\n",
      "랜덤 포레스트\n",
      "\n",
      "\n",
      "Train accuracy: 0.989\n",
      "Test accuracy: 0.959\n"
     ]
    }
   ],
   "source": [
    "print(\"컴퓨터 공학과\\n2015244055\\n김성민\\n랜덤 포레스트\\n\\n\")\n",
    "print(\"Train accuracy: {:.3f}\".format(forest.score(X_train, y_train)))\n",
    "print(\"Test accuracy: {:.3f}\".format(forest.score(X_test, y_test)))"
   ]
  },
  {
   "cell_type": "code",
   "execution_count": 12,
   "metadata": {},
   "outputs": [],
   "source": [
    "X_new = np.array([[13.24, 2.59, 2.87, 21.0, 118, 2.80, 269, 0.39, 1.82, 4.32, 1.04, 2.93, 735]])"
   ]
  },
  {
   "cell_type": "code",
   "execution_count": 13,
   "metadata": {},
   "outputs": [
    {
     "name": "stdout",
     "output_type": "stream",
     "text": [
      "[1.13333333]\n"
     ]
    }
   ],
   "source": [
    "pred = forest.predict(X_new)\n",
    "print(pred)"
   ]
  },
  {
   "cell_type": "code",
   "execution_count": null,
   "metadata": {},
   "outputs": [],
   "source": []
  }
 ],
 "metadata": {
  "kernelspec": {
   "display_name": "Python 3",
   "language": "python",
   "name": "python3"
  },
  "language_info": {
   "codemirror_mode": {
    "name": "ipython",
    "version": 3
   },
   "file_extension": ".py",
   "mimetype": "text/x-python",
   "name": "python",
   "nbconvert_exporter": "python",
   "pygments_lexer": "ipython3",
   "version": "3.7.4"
  }
 },
 "nbformat": 4,
 "nbformat_minor": 2
}

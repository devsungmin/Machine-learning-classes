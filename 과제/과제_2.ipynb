{
 "cells": [
  {
   "cell_type": "code",
   "execution_count": 1,
   "metadata": {},
   "outputs": [
    {
     "name": "stderr",
     "output_type": "stream",
     "text": [
      "//anaconda3/envs/study/lib/python3.7/site-packages/sklearn/externals/six.py:31: DeprecationWarning: The module is deprecated in version 0.21 and will be removed in version 0.23 since we've dropped support for Python 2.7. Please rely on the official version of six (https://pypi.org/project/six/).\n",
      "  \"(https://pypi.org/project/six/).\", DeprecationWarning)\n",
      "//anaconda3/envs/study/lib/python3.7/site-packages/sklearn/externals/joblib/__init__.py:15: DeprecationWarning: sklearn.externals.joblib is deprecated in 0.21 and will be removed in 0.23. Please import this functionality directly from joblib, which can be installed with: pip install joblib. If this warning is raised when loading pickled models, you may need to re-serialize those models with scikit-learn 0.21+.\n",
      "  warnings.warn(msg, category=DeprecationWarning)\n"
     ]
    }
   ],
   "source": [
    "import numpy as np\n",
    "import pandas as pd\n",
    "import matplotlib.pyplot as plt\n",
    "import mglearn\n",
    "import sklearn\n",
    "\n",
    "from scipy import sparse\n",
    "from IPython.display import display"
   ]
  },
  {
   "cell_type": "code",
   "execution_count": 2,
   "metadata": {},
   "outputs": [
    {
     "data": {
      "text/plain": [
       "(470, 18)"
      ]
     },
     "execution_count": 2,
     "metadata": {},
     "output_type": "execute_result"
    }
   ],
   "source": [
    "#데이터 읽어 오기\n",
    "data_set = np.loadtxt(\"./ThoraricSurgery.csv\", delimiter=\",\")\n",
    "#데이터 크기 확인\n",
    "data_set.shape"
   ]
  },
  {
   "cell_type": "code",
   "execution_count": 3,
   "metadata": {},
   "outputs": [],
   "source": [
    "# 데이터 저장\n",
    "X = data_set[:,0:17]\n",
    "y = data_set[:,17]\n",
    "\n",
    "from sklearn.ensemble import RandomForestClassifier\n",
    "from sklearn.model_selection import train_test_split\n",
    "\n",
    "#훈련 데이터 및 테스트 데이터 저장\n",
    "X_train, X_test, y_train, y_test = train_test_split(X, y, random_state=42)"
   ]
  },
  {
   "cell_type": "code",
   "execution_count": 4,
   "metadata": {},
   "outputs": [
    {
     "name": "stdout",
     "output_type": "stream",
     "text": [
      "테스트 데이터 점수  : 0.82\n",
      "훈련 데이터  점수  : 0.93\n"
     ]
    }
   ],
   "source": [
    "forest = RandomForestClassifier(n_estimators=2, random_state=42)\n",
    "forest.fit(X_train, y_train)\n",
    "print(\"테스트 데이터 점수  : {:.2f}\" .format(forest.score(X_test, y_test)))\n",
    "print(\"훈련 데이터  점수  : {:.2f}\" .format(forest.score(X_train, y_train)))"
   ]
  },
  {
   "cell_type": "code",
   "execution_count": 5,
   "metadata": {},
   "outputs": [
    {
     "name": "stdout",
     "output_type": "stream",
     "text": [
      "테스트 데이터 점수  : 0.80\n",
      "훈련 데이터  점수  : 0.97\n"
     ]
    }
   ],
   "source": [
    "forest = RandomForestClassifier(n_estimators=5, random_state=42)\n",
    "forest.fit(X_train, y_train)\n",
    "print(\"테스트 데이터 점수  : {:.2f}\" .format(forest.score(X_test, y_test)))\n",
    "print(\"훈련 데이터  점수  : {:.2f}\" .format(forest.score(X_train, y_train)))"
   ]
  },
  {
   "cell_type": "code",
   "execution_count": 6,
   "metadata": {},
   "outputs": [
    {
     "name": "stdout",
     "output_type": "stream",
     "text": [
      "테스트 데이터 점수  : 0.84\n",
      "훈련 데이터  점수  : 0.95\n"
     ]
    }
   ],
   "source": [
    "forest = RandomForestClassifier(n_estimators=10, random_state=42)\n",
    "forest.fit(X_train, y_train)\n",
    "print(\"테스트 데이터 점수  : {:.2f}\" .format(forest.score(X_test, y_test)))\n",
    "print(\"훈련 데이터  점수  : {:.2f}\" .format(forest.score(X_train, y_train)))"
   ]
  },
  {
   "cell_type": "code",
   "execution_count": 7,
   "metadata": {},
   "outputs": [
    {
     "name": "stdout",
     "output_type": "stream",
     "text": [
      "테스트 데이터 점수  : 0.83\n",
      "훈련 데이터  점수  : 0.99\n"
     ]
    }
   ],
   "source": [
    "forest = RandomForestClassifier(n_estimators=15, random_state=42)\n",
    "forest.fit(X_train, y_train)\n",
    "print(\"테스트 데이터 점수  : {:.2f}\" .format(forest.score(X_test, y_test)))\n",
    "print(\"훈련 데이터  점수  : {:.2f}\" .format(forest.score(X_train, y_train)))"
   ]
  },
  {
   "cell_type": "code",
   "execution_count": 8,
   "metadata": {},
   "outputs": [
    {
     "name": "stdout",
     "output_type": "stream",
     "text": [
      "테스트 데이터 점수  : 0.84\n",
      "훈련 데이터  점수  : 0.99\n"
     ]
    }
   ],
   "source": [
    "forest = RandomForestClassifier(n_estimators=20, random_state=42)\n",
    "forest.fit(X_train, y_train)\n",
    "print(\"테스트 데이터 점수  : {:.2f}\" .format(forest.score(X_test, y_test)))\n",
    "print(\"훈련 데이터  점수  : {:.2f}\" .format(forest.score(X_train, y_train)))"
   ]
  },
  {
   "cell_type": "code",
   "execution_count": 9,
   "metadata": {},
   "outputs": [
    {
     "name": "stdout",
     "output_type": "stream",
     "text": [
      "테스트 데이터 점수  : 0.83\n",
      "훈련 데이터  점수  : 1.00\n"
     ]
    }
   ],
   "source": [
    "forest = RandomForestClassifier(n_estimators=25, random_state=42)\n",
    "forest.fit(X_train, y_train)\n",
    "print(\"테스트 데이터 점수  : {:.2f}\" .format(forest.score(X_test, y_test)))\n",
    "print(\"훈련 데이터  점수  : {:.2f}\" .format(forest.score(X_train, y_train)))"
   ]
  }
 ],
 "metadata": {
  "kernelspec": {
   "display_name": "Python 3",
   "language": "python",
   "name": "python3"
  },
  "language_info": {
   "codemirror_mode": {
    "name": "ipython",
    "version": 3
   },
   "file_extension": ".py",
   "mimetype": "text/x-python",
   "name": "python",
   "nbconvert_exporter": "python",
   "pygments_lexer": "ipython3",
   "version": "3.7.4"
  }
 },
 "nbformat": 4,
 "nbformat_minor": 2
}
